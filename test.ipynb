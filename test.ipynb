{
 "cells": [
  {
   "cell_type": "code",
   "execution_count": 10,
   "metadata": {},
   "outputs": [
    {
     "name": "stdout",
     "output_type": "stream",
     "text": [
      "loading Roboflow workspace...\n",
      "loading Roboflow project...\n",
      "{'predictions': [{'x': 287.5, 'y': 102.0, 'width': 149.0, 'height': 74.0, 'confidence': 0.9660720825195312, 'class': 'broccoli', 'class_id': 8, 'detection_id': 'a9672428-b459-4292-b8e4-bf48eb6afa4c', 'image_path': 'img/347_jpg.rf.50c7c4dfef124332e05a4c3d1d645dbc.jpg', 'prediction_type': 'ObjectDetectionModel'}, {'x': 91.0, 'y': 225.5, 'width': 114.0, 'height': 137.0, 'confidence': 0.9622300267219543, 'class': 'broccoli', 'class_id': 8, 'detection_id': 'a7dbf35a-5597-41a9-aae9-0411571fed64', 'image_path': 'img/347_jpg.rf.50c7c4dfef124332e05a4c3d1d645dbc.jpg', 'prediction_type': 'ObjectDetectionModel'}, {'x': 291.0, 'y': 162.0, 'width': 158.0, 'height': 118.0, 'confidence': 0.9539183974266052, 'class': 'broccoli', 'class_id': 8, 'detection_id': 'c42cdfa3-eb0e-4e3e-a645-94d0b8cc06ab', 'image_path': 'img/347_jpg.rf.50c7c4dfef124332e05a4c3d1d645dbc.jpg', 'prediction_type': 'ObjectDetectionModel'}, {'x': 287.0, 'y': 250.5, 'width': 180.0, 'height': 157.0, 'confidence': 0.9490541815757751, 'class': 'broccoli', 'class_id': 8, 'detection_id': 'c3eb562b-cf47-4acd-aa45-3c68fcc473d2', 'image_path': 'img/347_jpg.rf.50c7c4dfef124332e05a4c3d1d645dbc.jpg', 'prediction_type': 'ObjectDetectionModel'}], 'image': {'width': '416', 'height': '416'}}\n"
     ]
    }
   ],
   "source": [
    "# # import the inference-sdk\n",
    "# from inference_sdk import InferenceHTTPClient\n",
    "# import prompt_toolkit\n",
    "\n",
    "# # initialize the client\n",
    "# CLIENT = InferenceHTTPClient(\n",
    "#     api_url=\"https://detect.roboflow.com\",\n",
    "#     api_key=\"XQpCRJzTEK0a73SI3iVx\"\n",
    "# )\n",
    "\n",
    "# # infer on a local image\n",
    "# result = CLIENT.infer(\"img/logo.jpg\", model_id=\"ingredient-detector-fc7de/1\")\n",
    "\n",
    "from roboflow import Roboflow\n",
    "rf = Roboflow(api_key=\"XQpCRJzTEK0a73SI3iVx\")\n",
    "project = rf.workspace().project(\"ingredient-detector-fc7de\")\n",
    "model = project.version(1).model\n",
    "\n",
    "# infer on a local image\n",
    "print(model.predict(\"img/347_jpg.rf.50c7c4dfef124332e05a4c3d1d645dbc.jpg\", confidence=60, overlap=30).json())\n",
    "\n"
   ]
  }
 ],
 "metadata": {
  "kernelspec": {
   "display_name": "Python 3",
   "language": "python",
   "name": "python3"
  },
  "language_info": {
   "codemirror_mode": {
    "name": "ipython",
    "version": 3
   },
   "file_extension": ".py",
   "mimetype": "text/x-python",
   "name": "python",
   "nbconvert_exporter": "python",
   "pygments_lexer": "ipython3",
   "version": "3.9.18"
  }
 },
 "nbformat": 4,
 "nbformat_minor": 2
}
